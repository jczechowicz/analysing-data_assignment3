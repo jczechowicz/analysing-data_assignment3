{
 "cells": [
  {
   "cell_type": "code",
   "execution_count": null,
   "metadata": {},
   "outputs": [],
   "source": [
    "# Jan Czechowicz, s5767512"
   ]
  },
  {
   "cell_type": "markdown",
   "metadata": {
    "id": "z81sDP-WhbM4"
   },
   "source": [
    "# Assignment 3: LDA Topic Modeling\n",
    "\n",
    "## Note\n",
    "Installing Tomotopy locally can return an error, if that's the case run this notebook on Google Colab\n",
    "\n",
    "## Research Background\n",
    "\n",
    "LDA is a popular topic modeling algorithm widely used in the fields of Digital Humanities and Social Sciences. In the field of political communication, topic modeling is often applied for analyzing politicians Twitter/X posts, identitying thematic patterns or topics revolving around their posts.\n",
    "\n",
    "For this assignment, students will work with tweets from two USA politicians, Donald Trump and Bernie Sanders, who are often regarded as right-wing populist and left-wing populist respectively. Right-wing populism often emphasizes nationalism, anti-immigration policies, and a critique of global elites from a culturally conservative perspective, focusing on preserving traditional values and social hierarchies. Left-wing populism prioritizes economic inequality, advocating for the redistribution of wealth, expansion of social services, and empowerment of the working class against the capitalist elite. While both forms of populism appeal to the \"common people\" against perceived elites and established structures, they diverge significantly in their identification of the elites, proposed solutions, and core ideologies. For a more detailed explanation, you can read the chapter by Macaulay (2019) \"Bernie and The Donald: A comparison of left-and right-wing populist discourse\" (full reference below).\n",
    "\n",
    "**Research Questions**\n",
    "1. What topics are revolving around Donald Trump and Bernie Sanders' posts separately?\n",
    "2. What are the topic differences between Trump (right-wing popoulist) and Sanders (left-wing populist)?\n",
    "\n",
    "**Aim:**\n",
    "1. The first aim of the assignment is to conduct LDA topic modeling. Identify thematic patterns or politics revolving around Trump or Sanders's posts.\n",
    "2. The second aim is to critically evaluate the results of topic modeling. Try different numbers of topics to see with which settings the topics are more coherent. Critically reflect on the results of LDA topic modeling, discussing them in relation to existing theories about populism.\n",
    "\n",
    "**Data**\n",
    "Two datasets are prepared for this assginment. Tweets from Trump and tweets from Sanders. Students are asked to work on these two datasets.\n",
    "\n",
    "**Methods**\n",
    "1. Word segamentation\n",
    "2. Removing stopwords\n",
    "3. LDA topic modeling\n",
    "4. Topic evaulation (coherence and human evaluation)\n",
    "5. Visualization of results.\n",
    "\n",
    "**References**\n",
    "1. Macaulay, M. (2019). Bernie and the Donald: A comparison of Left-and Right-wing populist discourse. *Populist discourse: International perspectives*, 165-195.\n",
    "\n",
    "\n",
    "\n"
   ]
  },
  {
   "cell_type": "markdown",
   "metadata": {
    "id": "fOAzU-HhhbM9"
   },
   "source": [
    "## Setup"
   ]
  },
  {
   "cell_type": "markdown",
   "metadata": {
    "id": "i4wYU9mJM99W"
   },
   "source": [
    "### Q1. Install necessary libraries, including `tomotopy` and `little_mallet_wrapper`, and import them"
   ]
  },
  {
   "cell_type": "code",
   "execution_count": 2,
   "metadata": {
    "id": "SFH5FrRzhbM-"
   },
   "outputs": [
    {
     "name": "stdout",
     "output_type": "stream",
     "text": [
      "Requirement already satisfied: tomotopy in /Users/Janek/anaconda3/lib/python3.11/site-packages (0.12.7)\n",
      "Requirement already satisfied: numpy>=1.11.0 in /Users/Janek/.local/lib/python3.11/site-packages (from tomotopy) (1.26.4)\n",
      "Requirement already satisfied: little-mallet-wrapper in /Users/Janek/anaconda3/lib/python3.11/site-packages (0.5.0)\n"
     ]
    }
   ],
   "source": [
    "# Q1 (code)\n",
    "# Install libraries:\n",
    "!pip install tomotopy\n",
    "!pip install little-mallet-wrapper\n",
    "\n",
    "# Import them:\n",
    "import tomotopy as tp\n",
    "import little_mallet_wrapper\n"
   ]
  },
  {
   "cell_type": "markdown",
   "metadata": {
    "id": "L4LzJUC3hbNC"
   },
   "source": [
    "## Data preprocessing"
   ]
  },
  {
   "cell_type": "markdown",
   "metadata": {
    "id": "_1qdFBgYM3_Z"
   },
   "source": [
    "### Q2. Load the two datasets and concatenate them\n",
    "\n",
    "The goal is to run topic modelling on the combined dataset of Sanders and Trump's tweets"
   ]
  },
  {
   "cell_type": "code",
   "execution_count": 13,
   "metadata": {
    "id": "Gc1Wj2K3hbNE"
   },
   "outputs": [
    {
     "name": "stdout",
     "output_type": "stream",
     "text": [
      "     Username              TweetId                           Title  \\\n",
      "0  SenSanders  1351670845639421952  SenSanders_1351670845639421952   \n",
      "1  SenSanders  1351259762722279424  SenSanders_1351259762722279424   \n",
      "2  SenSanders  1351242822293319680  SenSanders_1351242822293319680   \n",
      "3  SenSanders  1350885541911400448  SenSanders_1350885541911400448   \n",
      "4  SenSanders  1349880150041780224  SenSanders_1349880150041780224   \n",
      "\n",
      "                                             Content  \n",
      "0  Wealth increase in past 10 months:\\n⬆️$173 bil...  \n",
      "1  Amidst massive income and wealth inequality te...  \n",
      "2  “We now have the resources, we now have the sk...  \n",
      "3  After surviving an attempt on his life, Russia...  \n",
      "4  President-Elect Biden's COVID rescue plan will...  \n",
      "<class 'pandas.core.frame.DataFrame'>\n",
      "Index: 30371 entries, 0 to 23074\n",
      "Data columns (total 4 columns):\n",
      " #   Column    Non-Null Count  Dtype \n",
      "---  ------    --------------  ----- \n",
      " 0   Username  30371 non-null  object\n",
      " 1   TweetId   30371 non-null  int64 \n",
      " 2   Title     30371 non-null  object\n",
      " 3   Content   30371 non-null  object\n",
      "dtypes: int64(1), object(3)\n",
      "memory usage: 1.2+ MB\n"
     ]
    }
   ],
   "source": [
    "# Q2 (code)\n",
    "import pandas as pd\n",
    "\n",
    "# Load the data:\n",
    "sanders_tweets = pd.read_csv('sanders_tweets.csv')\n",
    "trump_tweets = pd.read_csv('trump_tweets.csv')\n",
    "\n",
    "# Concatenate the datasets:\n",
    "combined_tweets = pd.concat([sanders_tweets, trump_tweets])\n",
    "\n",
    "# Display the first few rows to check:\n",
    "print(combined_tweets.head())\n",
    "\n",
    "# Get information about dataset:\n",
    "combined_tweets.info()\n"
   ]
  },
  {
   "cell_type": "markdown",
   "metadata": {
    "id": "Tr84dAOvhbNE"
   },
   "source": [
    "### Q3. Clean the data\n",
    "\n",
    "Transform all tweets to lowercase, remove stopwords, punctuation, and numbers. Add the processed text to a list called `training_data`.\n",
    "Create a list with the content of the tweets (`original_texts`) and a list that allows you to identify both the author of the tweet and its ID (`titles`).\n"
   ]
  },
  {
   "cell_type": "code",
   "execution_count": 26,
   "metadata": {
    "id": "mZlaa28QhbNF"
   },
   "outputs": [
    {
     "name": "stdout",
     "output_type": "stream",
     "text": [
      "30371 30371 30371\n"
     ]
    }
   ],
   "source": [
    "# Q3 (code)\n",
    "# Initialize the lists:\n",
    "training_data = []\n",
    "original_texts = []\n",
    "titles = []\n",
    "\n",
    "# Define the unnecessary text to remove:\n",
    "text_to_remove = ['https', '//t', 'co/', 'realdonaldtrump', 'via', 'get', 'want', 'would', '//twitter']\n",
    "\n",
    "# Process the tweets:\n",
    "for index, row in combined_tweets.iterrows():\n",
    "    # Get the text from the 'Content' column:\n",
    "    text = row['Content']\n",
    "    \n",
    "    # Process the text:\n",
    "    processed_text = little_mallet_wrapper.process_string(text, numbers='remove')\n",
    "    \n",
    "    # Remove unnecessary symbols or words:\n",
    "    processed_words = processed_text.split()\n",
    "    filtered_words = []\n",
    "    for word in processed_words:\n",
    "        if word not in text_to_remove:\n",
    "            filtered_words.append(word)\n",
    "    processed_text = ' '.join(filtered_words)\n",
    "    \n",
    "    # Add processed text to training_data:\n",
    "    training_data.append(processed_text)\n",
    "    \n",
    "    # Add original text to original_texts:\n",
    "    original_texts.append(text)\n",
    "    \n",
    "    # Add title to titles:\n",
    "    titles.append(row['Title'])\n",
    "\n",
    "# Check if everything is ok:\n",
    "print(len(training_data), len(original_texts), len(titles))\n"
   ]
  },
  {
   "cell_type": "markdown",
   "metadata": {
    "id": "BeKlV0IehbNH"
   },
   "source": [
    "## LDA topic modelling"
   ]
  },
  {
   "cell_type": "markdown",
   "metadata": {
    "id": "AhTQrfCkHbXS"
   },
   "source": [
    "### Q4. Train a an LDA topic model with `tomotopy`"
   ]
  },
  {
   "cell_type": "code",
   "execution_count": 27,
   "metadata": {
    "id": "lKrCy-P6hbNI"
   },
   "outputs": [
    {
     "name": "stdout",
     "output_type": "stream",
     "text": [
      "TOPIC MODEL TRAINING PROCESS: \n",
      "\n",
      "Iteration: 0\tLog-likelihood: -9.830383337558168\n",
      "Iteration: 10\tLog-likelihood: -9.372103063833176\n",
      "Iteration: 20\tLog-likelihood: -9.188620325382386\n",
      "Iteration: 30\tLog-likelihood: -9.097346213866848\n",
      "Iteration: 40\tLog-likelihood: -9.032785774093774\n",
      "Iteration: 50\tLog-likelihood: -8.990367274710547\n",
      "Iteration: 60\tLog-likelihood: -8.956401373360277\n",
      "Iteration: 70\tLog-likelihood: -8.930237479203383\n",
      "Iteration: 80\tLog-likelihood: -8.907510462730023\n",
      "Iteration: 90\tLog-likelihood: -8.891738821182983\n",
      "Iteration: 100\tLog-likelihood: -8.873560486235007\n",
      "Iteration: 110\tLog-likelihood: -8.85526450150583\n",
      "Iteration: 120\tLog-likelihood: -8.846762484556102\n",
      "Iteration: 130\tLog-likelihood: -8.834919778646073\n",
      "Iteration: 140\tLog-likelihood: -8.829210436859153\n",
      "Iteration: 150\tLog-likelihood: -8.822379589117162\n",
      "Iteration: 160\tLog-likelihood: -8.81176871368895\n",
      "Iteration: 170\tLog-likelihood: -8.808628419207897\n",
      "Iteration: 180\tLog-likelihood: -8.799482889739178\n",
      "Iteration: 190\tLog-likelihood: -8.794410175922081\n",
      "Iteration: 200\tLog-likelihood: -8.791224491470333\n",
      "Iteration: 210\tLog-likelihood: -8.788327670888087\n",
      "Iteration: 220\tLog-likelihood: -8.784932395642109\n",
      "Iteration: 230\tLog-likelihood: -8.78060700382248\n",
      "Iteration: 240\tLog-likelihood: -8.78069155046984\n",
      "Iteration: 250\tLog-likelihood: -8.779804684736789\n",
      "Iteration: 260\tLog-likelihood: -8.772735733083021\n",
      "Iteration: 270\tLog-likelihood: -8.77352173377776\n",
      "Iteration: 280\tLog-likelihood: -8.767707383573002\n",
      "Iteration: 290\tLog-likelihood: -8.770172043137059\n"
     ]
    }
   ],
   "source": [
    "# Q4 (code)\n",
    "# Number of topics to return:\n",
    "num_topics = 20\n",
    "\n",
    "# Initialize the model:\n",
    "model = tp.LDAModel(k=num_topics)\n",
    "\n",
    "# Add each document to the model:\n",
    "for doc in training_data:\n",
    "    model.add_doc(doc.strip().split())\n",
    "\n",
    "print(\"TOPIC MODEL TRAINING PROCESS: \\n\")\n",
    "# Iterate over the data 10 times:\n",
    "iterations = 10\n",
    "for i in range(0, 300, iterations):\n",
    "    model.train(iterations)\n",
    "    print(f'Iteration: {i}\\tLog-likelihood: {model.ll_per_word}')\n",
    "\n",
    "# Save the model:\n",
    "model.save(\"lda_model.bin\")\n",
    "\n",
    "# Load the model:\n",
    "loaded_model = tp.LDAModel.load(\"lda_model.bin\")\n"
   ]
  },
  {
   "cell_type": "markdown",
   "metadata": {
    "id": "gucG5gYghbNI"
   },
   "source": [
    "### Q5. Print out the top words for each topic and manually evaluate their coherence\n"
   ]
  },
  {
   "cell_type": "code",
   "execution_count": 28,
   "metadata": {
    "id": "fu_F1j17hbNJ"
   },
   "outputs": [
    {
     "name": "stdout",
     "output_type": "stream",
     "text": [
      "\n",
      "TOPIC MODEL RESULTS:\n",
      "\n",
      "TOPIC 1\n",
      "senate war house democrats trump people president pelosi congress vote\n",
      "\n",
      "TOPIC 2\n",
      "biden joe people president never years like democrats left going\n",
      "\n",
      "TOPIC 3\n",
      "border wall must country democrats people security immigration great illegal\n",
      "\n",
      "TOPIC 4\n",
      "workers tax pay wage billion million taxes people america class\n",
      "\n",
      "TOPIC 5\n",
      "fbi trump collusion witch russia hunt mueller hillary campaign clinton\n",
      "\n",
      "TOPIC 6\n",
      "president today small federal help support act businesses whitehouse bill\n",
      "\n",
      "TOPIC 7\n",
      "news fake media cnn people even story bad new never\n",
      "\n",
      "TOPIC 8\n",
      "people security must trump social republicans americans working cut right\n",
      "\n",
      "TOPIC 9\n",
      "great president united house today states korea white meeting forward\n",
      "\n",
      "TOPIC 10\n",
      "coronavirus covid testing world million virus vaccine lives cases spread\n",
      "\n",
      "TOPIC 11\n",
      "great vote endorsement total state strong military complete amendment big\n",
      "\n",
      "TOPIC 12\n",
      "trump great president thank america new book make donald first\n",
      "\n",
      "TOPIC 13\n",
      "health care people americans drug must right country need make\n",
      "\n",
      "TOPIC 14\n",
      "jobs great economy years ever record year america time since\n",
      "\n",
      "TOPIC 15\n",
      "great thank court today supreme honor day women god men\n",
      "\n",
      "TOPIC 16\n",
      "election vote voter fraud votes voting ballots biden trump mail\n",
      "\n",
      "TOPIC 17\n",
      "china hurricane trade tariffs farmers deal fema great local state\n",
      "\n",
      "TOPIC 18\n",
      "president trump live thank tonight foxnews whitehouse watch join news\n",
      "\n",
      "TOPIC 19\n",
      "impeachment president democrats schiff call ukraine house jim whistleblower adam\n",
      "\n",
      "TOPIC 20\n",
      "people must change american together climate america country energy stand\n",
      "\n"
     ]
    }
   ],
   "source": [
    "# Q5a (code)\n",
    "# Define the number of topics and the number of words per topic:\n",
    "num_topics = loaded_model.k\n",
    "num_topic_words = 10\n",
    "\n",
    "# Print out top 10 words for each topic:\n",
    "print(\"\\nTOPIC MODEL RESULTS:\\n\")\n",
    "topics = []\n",
    "topic_individual_words = []\n",
    "for topic_number in range(0, num_topics):\n",
    "    topic_words = ' '.join(word for word, prob in loaded_model.get_topic_words(topic_number, top_n=num_topic_words))\n",
    "    topics.append(topic_words)\n",
    "    topic_individual_words.append(topic_words.split())\n",
    "    print(f\"TOPIC {topic_number + 1}\\n{topic_words}\\n\")\n"
   ]
  },
  {
   "cell_type": "markdown",
   "metadata": {
    "id": "rSeonT734KsL"
   },
   "source": [
    "####  Q5b (words) \n",
    "**Describe what each topic is about. What ideas, values, or situations do these keywords refer to?**\n",
    "\n",
    "*The original output can be found in the cell below.* \n",
    "\n",
    "- Topic 1: This topic appears to revolve around international conflicts and geopolitical tensions, with mentions of war, Iran, North Korea, Saudi Arabia, and nuclear issues.\n",
    "- Topic 2: seems to focus on legislative actions and political dynamics within the Senate, with mentions of voting, the Supreme Court, Republicans, and congressional bills. \n",
    "- Topic 3: likely portrays the impeachment proceedings against the president, with mentions of Democrats, House Speaker Pelosi, and the whistleblower. \n",
    "- Topic 4: appears to center around environmental concerns and calls for collective action, with mentions of climate change, energy, and standing together as a country. \n",
    "- Topic 5: discuss the COVID-19 pandemic and government responses, with mentions of coronavirus, federal assistance, and small businesses. \n",
    "- Topic 6: appears to focus on immigration issues and debates surrounding border security, with mentions of the border wall, Democrats, and immigration enforcement. \n",
    "- Topic 7: express gratitude and national pride, with mentions of greatness, thankfulness, and patriotism. \n",
    "- Topic 8: concentrates on investigations and controversies surrounding the Trump administration, with mentions of Russia, the FBI, collusion, and the Mueller investigation. \n",
    "- Topic 9: seems to revolve around general remarks about the United States and its leadership, with mentions of states, the president, and optimism. \n",
    "- Topic 10: discuss electoral politics, with mentions of elections, parties, and voting. \n",
    "- Topic 11: focuses on economic issues and concerns about income inequality, with mentions of workers, wages, jobs, and the economy. \n",
    "- Topic 12: likely about healthcare and tax policies, with mentions of healthcare, taxes, Medicare, and drug prices. \n",
    "- Topic 13: appears to address trade relations and economic deals, with mentions of China, trade, and economic growth. \n",
    "- Topic 14: involves political figures and party affiliations, with mentions of Trump, Biden, Obama, and Democrats. \n",
    "- Topic 15: expresses optimism and ambition for national progress, with mentions of greatness, new opportunities, and job creation. \n",
    "- Topic 16: discusses media coverage and public perceptions, with mentions of Fox News, Trump, and media narratives.\n",
    "- Topic 17: appears to express support for the military and veterans, with mentions of endorsements, military strength, and amendments.\n",
    "- Topic 18: seems to focus on presidential activities and events, with mentions of the president, White House, and public appearances. \n",
    "- Topic 19: address concerns about media credibility and misinformation, with mentions of fake news and skepticism towards media narratives.\n",
    "- Topic 20: discusses education and student debt issues, with mentions of debt, college, education, and student support. "
   ]
  },
  {
   "cell_type": "code",
   "execution_count": 54,
   "metadata": {},
   "outputs": [
    {
     "data": {
      "text/plain": [
       "'\\nTOPIC MODEL RESULTS:\\n\\nTOPIC 1\\nwar iran north korea saudi trump military hurricane yemen nuclear\\n\\nTOPIC 2\\nsenate must vote court republicans bill right congress people supreme\\n\\nTOPIC 3\\nimpeachment democrats president schiff house nothing call dems pelosi whistleblower\\n\\nTOPIC 4\\npeople must change climate country american trump stand together energy\\n\\nTOPIC 5\\ncoronavirus covid federal help government small need must businesses act\\n\\nTOPIC 6\\nborder wall democrats security country must immigration want illegal street\\n\\nTOPIC 7\\ngreat thank today day country women people american honor nation\\n\\nTOPIC 8\\nrussia fbi trump collusion mueller witch hillary hunt campaign clinton\\n\\nTOPIC 9\\nstates united great president good many forward meeting look well\\n\\nTOPIC 10\\nelection republican vote party win democrats democrat votes get people\\n\\nTOPIC 11\\nworkers wage million jobs wealth year americans living american economy\\n\\nTOPIC 12\\ncare health tax people americans trump medicare drug million right\\n\\nTOPIC 13\\nchina jobs trade economy great deal ever years much big\\n\\nTOPIC 14\\ntrump biden joe president left sleepy would obama radical democrats\\n\\nTOPIC 15\\ngreat thank america big see new make get state job\\n\\nTOPIC 16\\nfoxnews trump general new judge tonight book seanhannity court secretary\\n\\nTOPIC 17\\ngreat endorsement total complete military strong vets amendment vote crime\\n\\nTOPIC 18\\npresident whitehouse trump today house white live great thank join\\n\\nTOPIC 19\\nnews fake media people even never like would bad many\\n\\nTOPIC 20\\ndebt free public college education student make school people street\\n\\n'"
      ]
     },
     "execution_count": 54,
     "metadata": {},
     "output_type": "execute_result"
    }
   ],
   "source": [
    "'''\n",
    "TOPIC MODEL RESULTS:\n",
    "\n",
    "TOPIC 1\n",
    "war iran north korea saudi trump military hurricane yemen nuclear\n",
    "\n",
    "TOPIC 2\n",
    "senate must vote court republicans bill right congress people supreme\n",
    "\n",
    "TOPIC 3\n",
    "impeachment democrats president schiff house nothing call dems pelosi whistleblower\n",
    "\n",
    "TOPIC 4\n",
    "people must change climate country american trump stand together energy\n",
    "\n",
    "TOPIC 5\n",
    "coronavirus covid federal help government small need must businesses act\n",
    "\n",
    "TOPIC 6\n",
    "border wall democrats security country must immigration want illegal street\n",
    "\n",
    "TOPIC 7\n",
    "great thank today day country women people american honor nation\n",
    "\n",
    "TOPIC 8\n",
    "russia fbi trump collusion mueller witch hillary hunt campaign clinton\n",
    "\n",
    "TOPIC 9\n",
    "states united great president good many forward meeting look well\n",
    "\n",
    "TOPIC 10\n",
    "election republican vote party win democrats democrat votes get people\n",
    "\n",
    "TOPIC 11\n",
    "workers wage million jobs wealth year americans living american economy\n",
    "\n",
    "TOPIC 12\n",
    "care health tax people americans trump medicare drug million right\n",
    "\n",
    "TOPIC 13\n",
    "china jobs trade economy great deal ever years much big\n",
    "\n",
    "TOPIC 14\n",
    "trump biden joe president left sleepy would obama radical democrats\n",
    "\n",
    "TOPIC 15\n",
    "great thank america big see new make get state job\n",
    "\n",
    "TOPIC 16\n",
    "foxnews trump general new judge tonight book seanhannity court secretary\n",
    "\n",
    "TOPIC 17\n",
    "great endorsement total complete military strong vets amendment vote crime\n",
    "\n",
    "TOPIC 18\n",
    "president whitehouse trump today house white live great thank join\n",
    "\n",
    "TOPIC 19\n",
    "news fake media people even never like would bad many\n",
    "\n",
    "TOPIC 20\n",
    "debt free public college education student make school people street\n",
    "\n",
    "'''"
   ]
  },
  {
   "cell_type": "markdown",
   "metadata": {
    "id": "R_Cv23XVAj8E"
   },
   "source": [
    "## Topic coherence\n",
    "\n",
    "Use `tomotopy`'s [`.coherence()`](https://bab2min.github.io/tomotopy/v0.10.0/en/coherence.html) function to automatically calculate the topic coherence.\n",
    "\n",
    "The coherence value can vary from `0` (no coherence) to `1` (maximum coherence). Interpret the results and, if needed, retrain the model using a different number of topics."
   ]
  },
  {
   "cell_type": "code",
   "execution_count": 29,
   "metadata": {
    "id": "gzDijy831LHb"
   },
   "outputs": [
    {
     "name": "stdout",
     "output_type": "stream",
     "text": [
      "==== Coherence : c_v ====\n",
      "Average: 0.5966223853081464\n",
      "Minimum: 0.44559813290834427\n",
      "Maximum: 0.7928558140993118\n",
      "\n",
      "Per Topic:\n",
      "Topic 1: 0.4971555233001709\n",
      "Topic 2: 0.5002103395760059\n",
      "Topic 3: 0.5280769735574722\n",
      "Topic 4: 0.6829633608460426\n",
      "Topic 5: 0.7928558140993118\n",
      "Topic 6: 0.5449867852032184\n",
      "Topic 7: 0.5906468473374844\n",
      "Topic 8: 0.5303175508975982\n",
      "Topic 9: 0.510240563750267\n",
      "Topic 10: 0.7034318208694458\n",
      "Topic 11: 0.7000342398881912\n",
      "Topic 12: 0.44559813290834427\n",
      "Topic 13: 0.6021005183458328\n",
      "Topic 14: 0.5879387736320496\n",
      "Topic 15: 0.6201377063989639\n",
      "Topic 16: 0.6812529504299164\n",
      "Topic 17: 0.5926205672323703\n",
      "Topic 18: 0.5492530673742294\n",
      "Topic 19: 0.6990918785333633\n",
      "Topic 20: 0.5735342919826507\n"
     ]
    }
   ],
   "source": [
    "# There are different metrics for coherence, we choose `c_v`:\n",
    "# Calculate coherence:\n",
    "coh = tp.coherence.Coherence(loaded_model, coherence='c_v')\n",
    "average_coherence = coh.get_score()\n",
    "coherence_per_topic = [coh.get_score(topic_id=k) for k in range(loaded_model.k)]\n",
    "\n",
    "# Calculate minimum and maximum coherence:\n",
    "min_coherence = min(coherence_per_topic)\n",
    "max_coherence = max(coherence_per_topic)\n",
    "\n",
    "print('==== Coherence : {} ===='.format('c_v'))\n",
    "print('Average:', average_coherence)\n",
    "print('Minimum:', min_coherence)\n",
    "print('Maximum:', max_coherence)\n",
    "\n",
    "# Print coherence per topic on separate lines:\n",
    "print('\\nPer Topic:')\n",
    "for i, score in enumerate(coherence_per_topic):\n",
    "    print('Topic {}: {}'.format(i+1, score))\n"
   ]
  },
  {
   "cell_type": "markdown",
   "metadata": {
    "id": "DrEHnkB-Cs4_"
   },
   "source": [
    "### Q6. Interpret topic coherence\n",
    "\n",
    "Report the following:\n",
    "- number of topics you initially used to train the model and the coherence score you got\n",
    "- changes made to the number of topics and new coherence scores obtained"
   ]
  },
  {
   "cell_type": "markdown",
   "metadata": {
    "id": "hnXNA_m2DD0A"
   },
   "source": [
    "#### Q6 (words)\n",
    "In the initial phase of the research, the model was trained on 10 topics. The average coherence score across all topics was approximately 0.567. The highest coherence score was approximately 0.750 for Topic 9, and the lowest coherence score was approximately 0.448 for Topic 2. \n",
    "\n",
    "In general, the model showed progress and better coherence scores (results) while expanding the number of possible topics. For example with 25 topics the score average was 0.614 with a minimum score of 0.459, and a maximum of 0.787. Furthermore, with training the model on 50 topics, the average score was 0.660, with a minimum of 0.528 and a maximum of 0.803. For 100 topics the scores were respectively an average of  0.683, a minimum of 0.523 (which is lower than while training model for 25 topics), and a maximum of 0.872. For 250 topics the average score was 0.717, with a minimum of 0.568, and a maximum of 0.905 (sic!). Finally, for 500 topics the model-averaged score was 0.749 with a minimal value of 0.623, and a maximum score of 0.956. Nevertheless, at this point, the computations started to take a long time to process, and thus why the topic quantity was not further expanded. \n",
    "\n",
    "These results suggest that increasing the number of topics can improve the coherence of the topics identified by the model, up to a point. However, the computational cost also increases with the number of topics. Therefore, it’s important to balance the quality of the topics (as measured by coherence) with the computational resources available. It’s also worth noting that while coherence is a useful metric for evaluating topic models, it’s not the only one. The interpretability and usefulness of the topics in the context of your specific application are also important considerations.\n"
   ]
  },
  {
   "cell_type": "markdown",
   "metadata": {
    "id": "PpZbWHxfBr1E"
   },
   "source": [
    "### X1. Optional question 1\n",
    "(This question is not compulsory, it only allows you to get an extra point.)\n",
    "\n",
    "Create a function to plot the average coherence for models with different number of topics."
   ]
  },
  {
   "cell_type": "code",
   "execution_count": 32,
   "metadata": {
    "id": "sx124d3M5P4R"
   },
   "outputs": [
    {
     "data": {
      "image/png": "[encoded data removed]",
      "text/plain": [
       "<Figure size 1000x600 with 1 Axes>"
      ]
     },
     "metadata": {},
     "output_type": "display_data"
    }
   ],
   "source": [
    "# X1 (code)\n",
    "import matplotlib.pyplot as plt\n",
    "import tomotopy as tp\n",
    "\n",
    "def plot_coherence(training_data, max_topics, iterations):\n",
    "    coherence_scores = []\n",
    "    for num_topics in range(1, max_topics + 1):\n",
    "        \n",
    "        # Initialize the model:\n",
    "        model = tp.LDAModel(k=num_topics)\n",
    "        for doc in training_data:\n",
    "            model.add_doc(doc.strip().split())\n",
    "            \n",
    "        # Train the model:\n",
    "        for i in range(0, iterations, 10):\n",
    "            model.train(10)\n",
    "        \n",
    "        # Calculate coherence:\n",
    "        coh = tp.coherence.Coherence(model, coherence='c_v')\n",
    "        coherence_scores.append(coh.get_score())\n",
    "        \n",
    "    # Plot:\n",
    "    plt.figure(figsize=(10, 6))\n",
    "    plt.plot(range(1, max_topics + 1), coherence_scores)\n",
    "    plt.xlabel('Number of Topics')\n",
    "    plt.ylabel('Average Coherence')\n",
    "    plt.title('Average Coherence vs. Number of Topics')\n",
    "    plt.show()\n",
    "\n",
    "# Example usage:\n",
    "plot_coherence(training_data, max_topics=20, iterations=100)\n"
   ]
  },
  {
   "cell_type": "markdown",
   "metadata": {
    "id": "zYY_TIOyDLnN"
   },
   "source": [
    "### Q7. Topic distributions\n",
    "Calculate the topic distributions for all tweets and get the top documents for some topics (between 2 and 5) that you think could be more representative of Sanders or Trump."
   ]
  },
  {
   "cell_type": "code",
   "execution_count": 112,
   "metadata": {
    "id": "D4CQGxl6UrfL"
   },
   "outputs": [
    {
     "data": {
      "text/markdown": [
       "### TOPIC 2\n",
       "\n",
       "border wall must country democrats people security immigration great illegal\n",
       "\n"
      ],
      "text/plain": [
       "<IPython.core.display.Markdown object>"
      ]
     },
     "metadata": {},
     "output_type": "display_data"
    },
    {
     "name": "stdout",
     "output_type": "stream",
     "text": [
      "---\n"
     ]
    },
    {
     "data": {
      "text/markdown": [
       "✨  \n",
       "**Topic Probability**: 0.9508975744247437  \n",
       "**Tweet**:  “Outrageous, it’s the Adam Schiff problem. People abusing the access to classified data to then go out in public and make allegations that didn’t prove to be true. You look at a decision to essentially investigate a political rival. Who made it?” James Freeman, @WSJ\n",
       "\n"
      ],
      "text/plain": [
       "<IPython.core.display.Markdown object>"
      ]
     },
     "metadata": {},
     "output_type": "display_data"
    },
    {
     "data": {
      "text/markdown": [
       "✨  \n",
       "**Topic Probability**: 0.9508975744247437  \n",
       "**Tweet**:  ...The problem is, no matter what the Radical Left Democrats get, no matter what we give them, it will never be enough. Just watch, they will Harass &amp; Complain &amp; Resist (the theme of their movement). So maybe we should just take our victory and say NO, we’ve got a Country to run!\n",
       "\n"
      ],
      "text/plain": [
       "<IPython.core.display.Markdown object>"
      ]
     },
     "metadata": {},
     "output_type": "display_data"
    },
    {
     "data": {
      "text/markdown": [
       "✨  \n",
       "**Topic Probability**: 0.9471884965896606  \n",
       "**Tweet**:  RT @Mike_Pence: Today is the culmination of three and a half years of renewed leadership in space. It’s a tribute to the courage of our astronauts, American ingenuity at @NASA &amp; @SpaceX, the support of the American **people** &amp; the vision and leadership of President @realDonaldTrump. 🇺🇸 https://t.co/YKck3CQ2Gy\n",
       "\n"
      ],
      "text/plain": [
       "<IPython.core.display.Markdown object>"
      ]
     },
     "metadata": {},
     "output_type": "display_data"
    },
    {
     "data": {
      "text/markdown": [
       "✨  \n",
       "**Topic Probability**: 0.9428732395172119  \n",
       "**Tweet**:  Thank you Jessica! https://t.co/gxNRfFqZCm\n",
       "\n"
      ],
      "text/plain": [
       "<IPython.core.display.Markdown object>"
      ]
     },
     "metadata": {},
     "output_type": "display_data"
    },
    {
     "data": {
      "text/markdown": [
       "✨  \n",
       "**Topic Probability**: 0.9428732395172119  \n",
       "**Tweet**:  Democrats are incapable of doing a good and solid Immigration Bill!\n",
       "\n"
      ],
      "text/plain": [
       "<IPython.core.display.Markdown object>"
      ]
     },
     "metadata": {},
     "output_type": "display_data"
    },
    {
     "data": {
      "text/markdown": [
       "### TOPIC 17\n",
       "\n",
       "president trump live thank tonight foxnews whitehouse watch join news\n",
       "\n"
      ],
      "text/plain": [
       "<IPython.core.display.Markdown object>"
      ]
     },
     "metadata": {},
     "output_type": "display_data"
    },
    {
     "name": "stdout",
     "output_type": "stream",
     "text": [
      "---\n"
     ]
    },
    {
     "data": {
      "text/markdown": [
       "✨  \n",
       "**Topic Probability**: 0.9234018325805664  \n",
       "**Tweet**:  ....I can’t imagine any President having a better or closer relationship with their Vice President then the two of us. Just more FAKE NEWS, the Enemy of the People!\n",
       "\n"
      ],
      "text/plain": [
       "<IPython.core.display.Markdown object>"
      ]
     },
     "metadata": {},
     "output_type": "display_data"
    },
    {
     "data": {
      "text/markdown": [
       "✨  \n",
       "**Topic Probability**: 0.9190189838409424  \n",
       "**Tweet**:  Do you believe this?  A total Scam! https://t.co/ihJmne0AbW\n",
       "\n"
      ],
      "text/plain": [
       "<IPython.core.display.Markdown object>"
      ]
     },
     "metadata": {},
     "output_type": "display_data"
    },
    {
     "data": {
      "text/markdown": [
       "✨  \n",
       "**Topic Probability**: 0.9141041040420532  \n",
       "**Tweet**:  https://t.co/SzT60K4sW3\n",
       "\n"
      ],
      "text/plain": [
       "<IPython.core.display.Markdown object>"
      ]
     },
     "metadata": {},
     "output_type": "display_data"
    },
    {
     "data": {
      "text/markdown": [
       "✨  \n",
       "**Topic Probability**: 0.9141041040420532  \n",
       "**Tweet**:  ....Lawsuits should be brought against all, including the Fake News Organizations, to rectify this terrible injustice. For all of the great lawyers out there, do we have any takers? When will the Noble Committee Act? Better be fast!\n",
       "\n"
      ],
      "text/plain": [
       "<IPython.core.display.Markdown object>"
      ]
     },
     "metadata": {},
     "output_type": "display_data"
    },
    {
     "data": {
      "text/markdown": [
       "✨  \n",
       "**Topic Probability**: 0.9085540175437927  \n",
       "**Tweet**:  Democrats, who want Open Borders and care little about Crime, are incompetent, but they have the Fake News Media almost totally on their side!\n",
       "\n"
      ],
      "text/plain": [
       "<IPython.core.display.Markdown object>"
      ]
     },
     "metadata": {},
     "output_type": "display_data"
    },
    {
     "data": {
      "text/markdown": [
       "### TOPIC 12\n",
       "\n",
       "health care people americans drug must right country need make\n",
       "\n"
      ],
      "text/plain": [
       "<IPython.core.display.Markdown object>"
      ]
     },
     "metadata": {},
     "output_type": "display_data"
    },
    {
     "name": "stdout",
     "output_type": "stream",
     "text": [
      "---\n"
     ]
    },
    {
     "data": {
      "text/markdown": [
       "✨  \n",
       "**Topic Probability**: 0.9507461190223694  \n",
       "**Tweet**: Trump has told the American **people** several hundred times that Mexico would pay for the wall. That is a lie. If his wall were to be built, Mexico would not pay for it. American taxpayers would.\n",
       "\n"
      ],
      "text/plain": [
       "<IPython.core.display.Markdown object>"
      ]
     },
     "metadata": {},
     "output_type": "display_data"
    },
    {
     "data": {
      "text/markdown": [
       "✨  \n",
       "**Topic Probability**: 0.9449462890625  \n",
       "**Tweet**: Thank you to the 1.1 million **people** who tuned in live to the first-ever national Medicare for All town hall tonight. Together we will successfully move the United States to a Medicare-for-all, single-payer **health** **care** system and guarantee **health** **care** to all.\n",
       "\n"
      ],
      "text/plain": [
       "<IPython.core.display.Markdown object>"
      ]
     },
     "metadata": {},
     "output_type": "display_data"
    },
    {
     "data": {
      "text/markdown": [
       "✨  \n",
       "**Topic Probability**: 0.9426970481872559  \n",
       "**Tweet**: Last year, the five largest **drug** companies in America made nearly $60 billion in profits. The top five pharma CEOs made over $113 million in total compensation in 2017.\n",
       "\n",
       "Meanwhile, 1 in 5 Americans can’t afford their prescriptions. That should outrage every member of Congress.\n",
       "\n"
      ],
      "text/plain": [
       "<IPython.core.display.Markdown object>"
      ]
     },
     "metadata": {},
     "output_type": "display_data"
    },
    {
     "data": {
      "text/markdown": [
       "✨  \n",
       "**Topic Probability**: 0.9402562379837036  \n",
       "**Tweet**: Trump is shutting down the government not just for his absurd wall. When you don't pay 800,000 federal workers you are destroying the concept of government in a democratic society, and moving to more privatization and corporate control over our lives.\n",
       "\n"
      ],
      "text/plain": [
       "<IPython.core.display.Markdown object>"
      ]
     },
     "metadata": {},
     "output_type": "display_data"
    },
    {
     "data": {
      "text/markdown": [
       "✨  \n",
       "**Topic Probability**: 0.9375981688499451  \n",
       "**Tweet**: Here's what happened when a Republican senator challenged a Canadian doctor on their single-payer **health** **care** system. https://t.co/Weaz6vGbmB\n",
       "\n"
      ],
      "text/plain": [
       "<IPython.core.display.Markdown object>"
      ]
     },
     "metadata": {},
     "output_type": "display_data"
    },
    {
     "data": {
      "text/markdown": [
       "### TOPIC 15\n",
       "\n",
       "election vote voter fraud votes voting ballots biden trump mail\n",
       "\n"
      ],
      "text/plain": [
       "<IPython.core.display.Markdown object>"
      ]
     },
     "metadata": {},
     "output_type": "display_data"
    },
    {
     "name": "stdout",
     "output_type": "stream",
     "text": [
      "---\n"
     ]
    },
    {
     "data": {
      "text/markdown": [
       "✨  \n",
       "**Topic Probability**: 0.9414753317832947  \n",
       "**Tweet**:  https://t.co/AMIT0WetT1\n",
       "\n"
      ],
      "text/plain": [
       "<IPython.core.display.Markdown object>"
      ]
     },
     "metadata": {},
     "output_type": "display_data"
    },
    {
     "data": {
      "text/markdown": [
       "✨  \n",
       "**Topic Probability**: 0.9224705100059509  \n",
       "**Tweet**:  RT @gregkellyusa: So there’s ⁦@TTuberville⁩ —on his way to the US SENATE.  I hear we should be able to COUNT ON HIM on JAN 6th. He’s a world class COACH. Unlike most of the Bozos in the SWAMP—he’s going to Do something, not Be something.  Go TOMMY! https://t.co/X4DY7rPrGq\n",
       "\n"
      ],
      "text/plain": [
       "<IPython.core.display.Markdown object>"
      ]
     },
     "metadata": {},
     "output_type": "display_data"
    },
    {
     "data": {
      "text/markdown": [
       "✨  \n",
       "**Topic Probability**: 0.9180343151092529  \n",
       "**Tweet**:  The thugs who accosted Senator @RandPaul and his wonderful wife, Kelly, together with those who made threats to many other people who had just attended the Republican National Convention at the White House, must be sought out and immediately arrested. Well documented evidence!\n",
       "\n"
      ],
      "text/plain": [
       "<IPython.core.display.Markdown object>"
      ]
     },
     "metadata": {},
     "output_type": "display_data"
    },
    {
     "data": {
      "text/markdown": [
       "✨  \n",
       "**Topic Probability**: 0.9180343151092529  \n",
       "**Tweet**:  RT @PollWatch2020: 1). BREAKING: Democracy Institute shows Trump up nationally and in battlegrounds:  National Popular Vote: Trump 48 Biden 45  Battlegrounds of FL, IA, MI, MN, PA Trump 49 Biden 42\n",
       "\n"
      ],
      "text/plain": [
       "<IPython.core.display.Markdown object>"
      ]
     },
     "metadata": {},
     "output_type": "display_data"
    },
    {
     "data": {
      "text/markdown": [
       "✨  \n",
       "**Topic Probability**: 0.9114708304405212  \n",
       "**Tweet**:  Heading to Toledo, Ohio, for first Rally of the year. Tremendous crowd. Here we go for a big 2020 Win!\n",
       "\n"
      ],
      "text/plain": [
       "<IPython.core.display.Markdown object>"
      ]
     },
     "metadata": {},
     "output_type": "display_data"
    }
   ],
   "source": [
    "# Q7a (code):\n",
    "from IPython.display import Markdown, display\n",
    "import re\n",
    "\n",
    "def make_md(string):\n",
    "    display(Markdown(str(string)))\n",
    "    \n",
    "# Function to get the top documents:\n",
    "def get_top_docs(docs, topic_distributions, topic_number, n=5):\n",
    "\n",
    "    sorted_data = []\n",
    "\n",
    "    for i in range(len(topic_distributions)):\n",
    "        distribution = topic_distributions[i]\n",
    "        document = docs[i]\n",
    "        sorted_data.append((distribution[topic_number], document))\n",
    "\n",
    "    sorted_data.sort(reverse=True)\n",
    "\n",
    "    topic_words = topics[topic_number]\n",
    "\n",
    "    make_md(f\"### TOPIC {topic_number}\\n\\n{topic_words}\\n\\n\")\n",
    "    print(\"---\")\n",
    "\n",
    "    for probability, doc in sorted_data[:n]:\n",
    "        # Make topic words bolded\n",
    "        for word in topic_words.split():\n",
    "            if word in doc.lower():\n",
    "                doc = re.sub(f\"\\\\b{word}\\\\b\", f\"**{word}**\", doc, re.IGNORECASE)\n",
    "\n",
    "        make_md(f'✨  \\n**Topic Probability**: {probability}  \\n**Tweet**: {doc}\\n\\n')\n",
    "\n",
    "    return\n",
    "\n",
    "# Function to get top documents for four specific topics:\n",
    "def get_specific_top_docs(docs, topic_distributions, topic_number1, topic_number2, topic_number3, topic_number4, n=5):\n",
    "    get_top_docs(docs, topic_distributions, topic_number1, n)\n",
    "    get_top_docs(docs, topic_distributions, topic_number2, n)\n",
    "    get_top_docs(docs, topic_distributions, topic_number3, n)\n",
    "    get_top_docs(docs, topic_distributions, topic_number4, n)\n",
    "\n",
    "    return\n",
    "\n",
    "# Example usage:\n",
    "topic_number1 = 2\n",
    "topic_number2 = 17\n",
    "topic_number3 = 12\n",
    "topic_number4 = 15\n",
    "# Call the function:\n",
    "get_specific_top_docs(original_texts, topic_distributions, topic_number1, topic_number2, topic_number3, topic_number4)\n"
   ]
  },
  {
   "cell_type": "markdown",
   "metadata": {
    "id": "qNXy1koX6sFN"
   },
   "source": [
    "#### Q7b (words)\n",
    "**Interpret the results above. Are there topics that have top tweets only by one politician? Why do you think these topics are more representative of one of the two politicians' views?**\n",
    "- *Topic 2: Immigration and Border Security*:\n",
    "\n",
    "Tweets in this topic primarily discuss issues related to border security, immigration, and criticism of Democrats' stance on these issues. The language used in them aligns with the rhetoric often employed by Donald Trump during his presidency, emphasizing topics like building a border wall, criticizing Democrats, and highlighting the importance of immigration policies for national security.\n",
    "\n",
    "- *Topic 17: Media and Presidency*:\n",
    "\n",
    "This topic seems to concentrate around discussions related to media coverage, Trump's presidency, and his relationship with the press. The tweets express sentiments about the media being biased or unfair towards Trump, defending his administration, and attacking Democrats. The language and themes are consistent with Donald Trump's frequent criticisms of the media and his portrayal of himself as a victim of unfair treatment.\n",
    "\n",
    "- *Topic 12: Healthcare*:\n",
    "\n",
    "Tweets in this topic focus on healthcare-related issues such as access to healthcare, drug prices, and criticisms of Trump's policies on healthcare. The language used aligns more closely with Bernie Sanders' viewpoints, as he has been a prominent advocate for Medicare for all and has criticized the pharmaceutical industry and the lack of affordable healthcare in the US.\n",
    "\n",
    "- *Topic 15: Election and Politics*:\n",
    "\n",
    "This topic revolves around discussions related to elections, voter fraud, political endorsements, and campaigning. While these topics are relevant to both Trump and Sanders, the language and sentiments expressed in the documents don't strongly favor one politician over the other. Both Trump and Sanders have been vocal about issues related to election integrity and have made statements regarding their respective election campaigns.\n",
    "\n",
    "\n",
    "- *Conclusion:*\n",
    "To conclude, while topics 2 and 17 seem to be more representative of Donald Trump's views and activities, topics 12 and 15 may align more closely with Bernie Sanders' viewpoints. "
   ]
  },
  {
   "cell_type": "markdown",
   "metadata": {
    "id": "y4LxDb31D01p"
   },
   "source": [
    "## Large scale analysis"
   ]
  },
  {
   "cell_type": "markdown",
   "metadata": {
    "id": "NXmHmjaHI2fD"
   },
   "source": [
    "### Q8. Create a random sample of the whole dataset and visualize the topic distributions for the sampled tweets"
   ]
  },
  {
   "cell_type": "code",
   "execution_count": 105,
   "metadata": {},
   "outputs": [
    {
     "data": {
      "image/png": "[encoded data removed]",
      "text/plain": [
       "<Figure size 1000x800 with 2 Axes>"
      ]
     },
     "metadata": {},
     "output_type": "display_data"
    }
   ],
   "source": [
    "# Q8 (code)\n",
    "import seaborn as sns\n",
    "from random import sample\n",
    "\n",
    "# Specify the sample:\n",
    "target_labels = sample(titles, 20)\n",
    "\n",
    "def visualize_topic_distributions(topic_distributions, titles, target_labels):\n",
    "    # Find indices of target labels in the titles list:\n",
    "    indices = [i for i, title in enumerate(titles) if title in target_labels]\n",
    "    # Extract topic distributions for sampled tweets:\n",
    "    sampled_topic_distributions = [topic_distributions[i] for i in indices]\n",
    "    # Convert topic distributions to DataFrame:\n",
    "    topic_df = pd.DataFrame(sampled_topic_distributions)\n",
    "    \n",
    "    # Create a heatmap:\n",
    "    plt.figure(figsize=(10, 8))\n",
    "    sns.heatmap(topic_df, cmap=\"Blues\", linewidths=.5)\n",
    "    plt.xlabel('Topics')\n",
    "    plt.ylabel('Sampled Tweets')\n",
    "    plt.title('Topic Distributions for Sampled Tweets')\n",
    "    plt.show()\n",
    "\n",
    "# Call the function:\n",
    "visualize_topic_distributions(topic_distributions, titles, target_labels)\n"
   ]
  },
  {
   "cell_type": "markdown",
   "metadata": {
    "id": "trwbJnmGE2VR"
   },
   "source": [
    "### Q9. Interpret the heatmap\n",
    "Do you see any pattern in the probability distributions of topics for each politician?\n",
    "\n",
    "Are there topics that are more likely for one of the two politicians?"
   ]
  },
  {
   "cell_type": "markdown",
   "metadata": {
    "id": "-NPJXZUIIpor"
   },
   "source": [
    "#### Q9 (words)\n",
    "In the provided heatmap, the y-axis represents the sampled tweets, while the x-axis represents the topics. Each cell in the heatmap displays the distribution of topic probabilities for a particular tweet. Each row of the heatmap corresponds to a sampled tweet, and each column corresponds to a topic. The color intensity in each cell represents the probability of the corresponding topic for the respective tweet. The 'target_labels' variable contains a list of sampled tweets, and the heatmap visualizes the distribution of topic probabilities for these tweets.\n",
    "\n",
    "Nevertheless, even with the sample limited to 20 tweets, this visualization is not very informative for the human interpreter. Therefore, below I would like to propose a different approach, that divides tweets by their authors and thus allows to make conclusions about the topic distribution in the much bigger sample – thanks to linking it with authorship. "
   ]
  },
  {
   "cell_type": "code",
   "execution_count": 109,
   "metadata": {
    "id": "SQdtQCJQiBUw"
   },
   "outputs": [
    {
     "data": {
      "image/png": "[encoded data removed]",
      "text/plain": [
       "<Figure size 1200x800 with 2 Axes>"
      ]
     },
     "metadata": {},
     "output_type": "display_data"
    }
   ],
   "source": [
    "import seaborn as sns\n",
    "import matplotlib.pyplot as plt\n",
    "import pandas as pd\n",
    "from random import sample\n",
    "\n",
    "def visualize_topic_distributions(topic_distributions, titles, sample_size=1000):\n",
    "    # Find indices of target labels in the titles list:\n",
    "    indices = [i for i, title in enumerate(titles) if title in target_labels]\n",
    "    # Extract topic distributions for sampled tweets:\n",
    "    sampled_topic_distributions = [topic_distributions[i] for i in indices]\n",
    "    # Extract usernames for sampled tweets:\n",
    "    sampled_usernames = [titles[i].split('_')[0] for i in indices]\n",
    "    # Convert topic distributions to DataFrame:\n",
    "    topic_df = pd.DataFrame(sampled_topic_distributions, columns=[f\"Topic {i+1}\" for i in range(len(sampled_topic_distributions[0]))])\n",
    "    # Add 'Politician' column to the DataFrame:\n",
    "    topic_df['Politician'] = sampled_usernames\n",
    "    # Pivot the DataFrame for visualization:\n",
    "    pivot_df = topic_df.pivot_table(index='Politician', aggfunc='mean').reset_index()\n",
    "    pivot_df = pivot_df.set_index('Politician')\n",
    "    \n",
    "    # Create a heatmap:\n",
    "    plt.figure(figsize=(12, 8))\n",
    "    sns.heatmap(pivot_df, cmap=\"Blues\", linewidths=.5)\n",
    "    plt.xlabel('Topics')\n",
    "    plt.ylabel('Politician')\n",
    "    plt.title('Topic Distributions for Sampled Tweets')\n",
    "    plt.show()\n",
    "\n",
    "# Call the function:\n",
    "visualize_topic_distributions(topic_distributions, titles, sample_size=100)\n"
   ]
  },
  {
   "cell_type": "markdown",
   "metadata": {
    "id": "uYZ9qZ2CEACM"
   },
   "source": [
    "### X2. Optional question 2\n",
    "(This question is not compulsory, it only allows you to get an extra point)\n",
    "\n",
    "Make the sample balanced, with 50 tweets by Trump and 50 by Sanders."
   ]
  },
  {
   "cell_type": "code",
   "execution_count": 107,
   "metadata": {
    "id": "oVJBSdeP8MYK"
   },
   "outputs": [
    {
     "data": {
      "image/png": "[encoded data removed]",
      "text/plain": [
       "<Figure size 1200x800 with 2 Axes>"
      ]
     },
     "metadata": {},
     "output_type": "display_data"
    }
   ],
   "source": [
    "# X2 (code)\n",
    "import random\n",
    "\n",
    "trump_tweets = []\n",
    "sanders_tweets = []\n",
    "\n",
    "# Iterate through titles and select tweets for each politician:\n",
    "trump_tweets = [title for title in titles if title.split('_')[0] == '@realDonaldTrump' and len(trump_tweets) < 50] + \\\n",
    "               [title for title in titles if title.split('_')[0] == 'SenSanders' and len(sanders_tweets) < 50]\n",
    "\n",
    "sanders_tweets = [title for title in titles if title.split('_')[0] == 'SenSanders' and len(sanders_tweets) < 50] + \\\n",
    "                 [title for title in titles if title.split('_')[0] == '@realDonaldTrump' and len(trump_tweets) < 50]\n",
    "\n",
    "# Combine the selected tweets for both politicians:\n",
    "balanced_tweets = trump_tweets + sanders_tweets\n",
    "\n",
    "def visualize_balanced_topic_distributions(topic_distributions, titles, target_labels):\n",
    "    indices = []\n",
    "    for i, title in enumerate(titles):\n",
    "        if title in target_labels and i < len(topic_distributions):\n",
    "            indices.append(i)\n",
    "\n",
    "    sample_topic_distributions = []\n",
    "    for i in indices:\n",
    "        sample_topic_distributions.append(topic_distributions[i])\n",
    "\n",
    "    # Make sure all titles are strings:\n",
    "    titles = [str(title) for title in titles]\n",
    "\n",
    "    # Extract sample topic distributions and politician usernames:\n",
    "    sample_politicians_usernames = []\n",
    "    for i in indices:\n",
    "        sample_politicians_usernames.append(titles[i].split('_')[0])\n",
    "\n",
    "    topic_df = pd.DataFrame(sample_topic_distributions, columns=[f'Topic {i+1}' for i in range(len(sample_topic_distributions[0]))])\n",
    "    topic_df['politician'] = sample_politicians_usernames\n",
    "\n",
    "    # Aggregate and find the mean distribution for every topic, for each of the politician to get numeric values:\n",
    "    pivot_df = topic_df.pivot_table(index='politician', aggfunc='mean').reset_index()\n",
    "    pivot_df = pivot_df.set_index('politician')\n",
    "\n",
    "    # Create a heatmap:\n",
    "    plt.figure(figsize=(12, 8))\n",
    "    sns.heatmap(pivot_df, cmap=\"Blues\", linewidth=.6, xticklabels=True)\n",
    "    plt.xlabel('Topic')\n",
    "    plt.ylabel('Politicians')\n",
    "    plt.title('Topic Relevance Heatmap for Balanced Sample of Tweets')\n",
    "    plt.show()\n",
    "\n",
    "# Call the function:\n",
    "visualize_balanced_topic_distributions(topic_distributions, titles, target_labels)"
   ]
  },
  {
   "cell_type": "markdown",
   "metadata": {
    "id": "sVvkS8XaFCmL"
   },
   "source": [
    "### X3. Optional question 3\n",
    "(This question is not compulsory, it only allows you to get an extra point)\n",
    "\n",
    "Extend the analysis to all the tweets in the dataset."
   ]
  },
  {
   "cell_type": "code",
   "execution_count": 96,
   "metadata": {
    "id": "TJFY02h08kIh"
   },
   "outputs": [],
   "source": [
    "# X3 (code and words)\n",
    "# Tip: plotting a heatmap for thousands of tweets is not practical.\n",
    "# Make a comparison based on the numerical values in the `df_norm_col` dataframe (see Week 6 notebook)\n"
   ]
  }
 ],
 "metadata": {
  "colab": {
   "provenance": [],
   "toc_visible": true
  },
  "kernelspec": {
   "display_name": "Python 3 (ipykernel)",
   "language": "python",
   "name": "python3"
  },
  "language_info": {
   "codemirror_mode": {
    "name": "ipython",
    "version": 3
   },
   "file_extension": ".py",
   "mimetype": "text/x-python",
   "name": "python",
   "nbconvert_exporter": "python",
   "pygments_lexer": "ipython3",
   "version": "3.11.5"
  }
 },
 "nbformat": 4,
 "nbformat_minor": 4
}
